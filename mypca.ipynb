{
 "cells": [
  {
   "cell_type": "code",
   "execution_count": 2,
   "id": "ab9a19c3",
   "metadata": {},
   "outputs": [],
   "source": [
    "import numpy as np\n",
    "import pandas as pd\n",
    "from sklearn import datasets \n",
    "import matplotlib.pyplot as plt"
   ]
  },
  {
   "cell_type": "code",
   "execution_count": 6,
   "id": "8b10b253",
   "metadata": {},
   "outputs": [],
   "source": [
    "import numpy as np\n",
    "\n",
    "class MyPCA:\n",
    "    def __init__(self, n_components):\n",
    "        self.n_components = n_components\n",
    "        self.mean_ = None\n",
    "        self.std_ = None\n",
    "        self.components_ = None\n",
    "        self.explained_variance_ratio_ = None\n",
    "        self.cumulative_explained_variance_ratio_ = None\n",
    "\n",
    "    def fit(self, X):\n",
    "        # Bước 1: Chuẩn hóa dữ liệu\n",
    "        self.mean_ = np.mean(X, axis=0)\n",
    "        self.std_ = np.std(X, axis=0)\n",
    "        X_std = (X - self.mean_) / self.std_\n",
    "\n",
    "        # Bước 2: Tính ma trận hiệp phương sai\n",
    "        cov_matrix = np.cov(X_std, rowvar=False)\n",
    "\n",
    "        # Bước 3: Tính các trị riêng (eigenvalues) và vector riêng (eigenvectors)\n",
    "        eigenvalues, eigenvectors = np.linalg.eigh(cov_matrix)\n",
    "\n",
    "        # Bước 4: Sắp xếp eigenvalues và eigenvectors giảm dần\n",
    "        sorted_indices = np.argsort(eigenvalues)[::-1]\n",
    "        eigenvalues = eigenvalues[sorted_indices]\n",
    "        eigenvectors = eigenvectors[:, sorted_indices]\n",
    "\n",
    "        # Bước 5: Lưu các thành phần chính\n",
    "        self.components_ = eigenvectors[:, :self.n_components]\n",
    "\n",
    "        # Bước 6: Tính tỉ lệ phương sai giải thích\n",
    "        total_variance = np.sum(eigenvalues)\n",
    "        explained = eigenvalues[:self.n_components]\n",
    "        self.explained_variance_ratio_ = explained / total_variance\n",
    "        self.cumulative_explained_variance_ratio_ = np.sum(self.explained_variance_ratio_)\n",
    "\n",
    "    def transform(self, X):\n",
    "        # Bước 1: Chuẩn hóa dữ liệu với mean và std đã tính ở fit()\n",
    "        X_std = (X - self.mean_) / self.std_\n",
    "\n",
    "        # Bước 2: Chiếu dữ liệu lên không gian PCA\n",
    "        return np.dot(X_std, self.components_)\n"
   ]
  },
  {
   "cell_type": "code",
   "execution_count": 7,
   "id": "f349f13c",
   "metadata": {},
   "outputs": [
    {
     "name": "stdout",
     "output_type": "stream",
     "text": [
      "Tỉ lệ phương sai từng thành phần (EVR): [0.72962445 0.22850762 0.03668922 0.00517871]\n",
      "Tổng phương sai giữ lại (CEVR): 1.0\n",
      "Shape dữ liệu sau PCA: (150, 4)\n",
      "5 dòng đầu sau PCA:\n",
      " [[ 2.26470281  0.4800266   0.12770602  0.0241682 ]\n",
      " [ 2.08096115 -0.67413356  0.23460885  0.10300677]\n",
      " [ 2.36422905 -0.34190802 -0.04420148  0.02837705]\n",
      " [ 2.29938422 -0.59739451 -0.09129011 -0.06595556]\n",
      " [ 2.38984217  0.64683538 -0.0157382  -0.03592281]]\n"
     ]
    }
   ],
   "source": [
    "from sklearn.datasets import load_iris\n",
    "\n",
    "# Tải dữ liệu\n",
    "iris = load_iris()\n",
    "X = iris['data']\n",
    "y = iris['target']\n",
    "\n",
    "# Khởi tạo và huấn luyện PCA với 4 thành phần\n",
    "pca = MyPCA(n_components=4)\n",
    "pca.fit(X)\n",
    "X_pca = pca.transform(X)\n",
    "\n",
    "# In thông tin kết quả\n",
    "print(\"Tỉ lệ phương sai từng thành phần (EVR):\", pca.explained_variance_ratio_)\n",
    "print(\"Tổng phương sai giữ lại (CEVR):\", pca.cumulative_explained_variance_ratio_)\n",
    "print(\"Shape dữ liệu sau PCA:\", X_pca.shape)\n",
    "print(\"5 dòng đầu sau PCA:\\n\", X_pca[:5])\n"
   ]
  }
 ],
 "metadata": {
  "kernelspec": {
   "display_name": "Python 3",
   "language": "python",
   "name": "python3"
  },
  "language_info": {
   "codemirror_mode": {
    "name": "ipython",
    "version": 3
   },
   "file_extension": ".py",
   "mimetype": "text/x-python",
   "name": "python",
   "nbconvert_exporter": "python",
   "pygments_lexer": "ipython3",
   "version": "3.11.3"
  }
 },
 "nbformat": 4,
 "nbformat_minor": 5
}
