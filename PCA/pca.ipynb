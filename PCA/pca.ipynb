{
 "cells": [
  {
   "cell_type": "code",
   "execution_count": 1,
   "metadata": {},
   "outputs": [],
   "source": [
    "import numpy as np\n",
    "import pandas as pd\n",
    "from sklearn import datasets \n",
    "import matplotlib.pyplot as plt"
   ]
  },
  {
   "cell_type": "markdown",
   "metadata": {},
   "source": [
    "# 1. Định nghĩa class MyPCA"
   ]
  },
  {
   "cell_type": "code",
   "execution_count": 2,
   "metadata": {},
   "outputs": [],
   "source": [
    "class MyPCA:\n",
    "    def __init__(self, n_components=None):\n",
    "        self.n_components = n_components\n",
    "\n",
    "    def fit(self, X):\n",
    "        # 1) Tâm dữ liệu\n",
    "        self.mean_ = np.mean(X, axis=0)\n",
    "        Xc = X - self.mean_\n",
    "        # 2) Ma trận hiệp phương sai\n",
    "        n_samples = X.shape[0]\n",
    "        C = np.dot(Xc.T, Xc) / (n_samples - 1)\n",
    "        # 3) Tính trị riêng và vector riêng\n",
    "        eigvals, eigvecs = np.linalg.eigh(C)\n",
    "        # 4) Sắp xếp giảm dần\n",
    "        idx = np.argsort(eigvals)[::-1]\n",
    "        eigvals = eigvals[idx]\n",
    "        eigvecs = eigvecs[:, idx]\n",
    "        # 5) Chọn số thành phần\n",
    "        if self.n_components is not None:\n",
    "            eigvals = eigvals[:self.n_components]\n",
    "            eigvecs = eigvecs[:, :self.n_components]\n",
    "        # 6) Lưu kết quả\n",
    "        self.components_ = eigvecs.T\n",
    "        self.explained_variance_ = eigvals\n",
    "        self.total_var_ = np.sum(np.linalg.eigvalsh(C))  # Total variance\n",
    "        self.explained_variance_ratio_ = eigvals / self.total_var_\n",
    "        self.cumulative_explained_variance_ = np.cumsum(self.explained_variance_ratio_)\n",
    "        \n",
    "        return self\n",
    "    \n",
    "    def transform(self, X):\n",
    "        Xc = X - self.mean_\n",
    "\n",
    "        return np.dot(Xc, self.components_.T)\n",
    "\n",
    "    def fit_transform(self, X):\n",
    "        return self.fit(X).transform(X)"
   ]
  },
  {
   "cell_type": "code",
   "execution_count": null,
   "metadata": {},
   "outputs": [],
   "source": [
    "# Scree plot\n",
    "def scree_plot(pca, color='ro-'):\n",
    "    plt.figure(figsize=(6,5))\n",
    "    plt.plot(pca.explained_variance_ratio_, color, linewidth=2)\n",
    "    plt.title('Scree Plot')\n",
    "    plt.xticks(range(len(pca.explained_variance_ratio_)), range(1, len(pca.explained_variance_ratio_) + 1))\n",
    "    plt.xlabel('Principal Components')\n",
    "    plt.ylabel('Eigenvalues')\n",
    "    plt.show()"
   ]
  },
  {
   "cell_type": "markdown",
   "metadata": {},
   "source": [
    "# 2. Thử PCA trên Iris dataset"
   ]
  },
  {
   "cell_type": "code",
   "execution_count": 3,
   "metadata": {},
   "outputs": [],
   "source": [
    "iris = datasets.load_iris()\n",
    "X_iris = iris.data  \n",
    "y_iris = iris.target"
   ]
  },
  {
   "cell_type": "code",
   "execution_count": 4,
   "metadata": {},
   "outputs": [
    {
     "name": "stdout",
     "output_type": "stream",
     "text": [
      "Thông tin chung về bộ dữ liệu Iris:\n",
      "Số mẫu (dòng): 150\n",
      "Số đặc trưng (cột): 4\n",
      "Các lớp: [0 1 2]\n",
      "Số lượng mẫu mỗi lớp: [50 50 50]\n",
      "\n",
      "Tên các đặc trưng:\n",
      "  1. sepal length (cm)\n",
      "  2. sepal width (cm)\n",
      "  3. petal length (cm)\n",
      "  4. petal width (cm)\n",
      "\n",
      "5 mẫu đầu tiên:\n",
      "   sepal length (cm)  sepal width (cm)  petal length (cm)  petal width (cm)  \\\n",
      "0                5.1               3.5                1.4               0.2   \n",
      "1                4.9               3.0                1.4               0.2   \n",
      "2                4.7               3.2                1.3               0.2   \n",
      "3                4.6               3.1                1.5               0.2   \n",
      "4                5.0               3.6                1.4               0.2   \n",
      "\n",
      "   target species  \n",
      "0       0  setosa  \n",
      "1       0  setosa  \n",
      "2       0  setosa  \n",
      "3       0  setosa  \n",
      "4       0  setosa  \n",
      "\n",
      "Thống kê mô tả:\n",
      "       sepal length (cm)  sepal width (cm)  petal length (cm)  \\\n",
      "count         150.000000        150.000000         150.000000   \n",
      "mean            5.843333          3.057333           3.758000   \n",
      "std             0.828066          0.435866           1.765298   \n",
      "min             4.300000          2.000000           1.000000   \n",
      "25%             5.100000          2.800000           1.600000   \n",
      "50%             5.800000          3.000000           4.350000   \n",
      "75%             6.400000          3.300000           5.100000   \n",
      "max             7.900000          4.400000           6.900000   \n",
      "\n",
      "       petal width (cm)  \n",
      "count        150.000000  \n",
      "mean           1.199333  \n",
      "std            0.762238  \n",
      "min            0.100000  \n",
      "25%            0.300000  \n",
      "50%            1.300000  \n",
      "75%            1.800000  \n",
      "max            2.500000  \n"
     ]
    }
   ],
   "source": [
    "# 1 số thông tin của dataset\n",
    "print(\"Thông tin chung về bộ dữ liệu Iris:\")\n",
    "print(\"Số mẫu (dòng):\", X_iris.shape[0])\n",
    "print(\"Số đặc trưng (cột):\", X_iris.shape[1])\n",
    "print(\"Các lớp:\", np.unique(y_iris))\n",
    "print(\"Số lượng mẫu mỗi lớp:\", np.bincount(y_iris))\n",
    "\n",
    "print(\"\\nTên các đặc trưng:\")\n",
    "for i, name in enumerate(iris.feature_names):\n",
    "    print(f\"  {i+1}. {name}\")\n",
    "\n",
    "print(\"\\n5 mẫu đầu tiên:\")\n",
    "df = pd.DataFrame(X_iris, columns=iris.feature_names)\n",
    "df['target'] = y_iris\n",
    "df['species'] = df['target'].map({0: 'setosa', 1: 'versicolor', 2: 'virginica'})\n",
    "print(df.head())\n",
    "\n",
    "print(\"\\nThống kê mô tả:\")\n",
    "print(df[iris.feature_names].describe()) "
   ]
  },
  {
   "cell_type": "code",
   "execution_count": 5,
   "metadata": {},
   "outputs": [],
   "source": [
    "# Chuẩn hóa \n",
    "X_iris_std = (X_iris - X_iris.mean(axis=0)) / X_iris.std(axis=0)"
   ]
  },
  {
   "cell_type": "code",
   "execution_count": 6,
   "metadata": {},
   "outputs": [],
   "source": [
    "# xác định số thành phần chính\n",
    "k = 4"
   ]
  },
  {
   "cell_type": "code",
   "execution_count": 7,
   "metadata": {},
   "outputs": [],
   "source": [
    "# Áp dụng MyPCA lấy k thành phần\n",
    "my_pca = MyPCA(n_components=k)\n",
    "X2_iris = my_pca.fit_transform(X_iris_std)"
   ]
  },
  {
   "cell_type": "code",
   "execution_count": 9,
   "metadata": {},
   "outputs": [
    {
     "data": {
      "image/png": "[encoded data removed]",
      "text/plain": [
       "<Figure size 600x500 with 1 Axes>"
      ]
     },
     "metadata": {},
     "output_type": "display_data"
    }
   ],
   "source": [
    "scree_plot(my_pca)"
   ]
  },
  {
   "cell_type": "code",
   "execution_count": 10,
   "metadata": {},
   "outputs": [
    {
     "name": "stdout",
     "output_type": "stream",
     "text": [
      "EVR: [0.72962445 0.22850762 0.03668922 0.00517871]\n",
      "CEVR: [0.72962445 0.95813207 0.99482129 1.        ]\n"
     ]
    }
   ],
   "source": [
    "# In EVR / CEVR\n",
    "print(\"EVR:\", my_pca.explained_variance_ratio_)\n",
    "print(\"CEVR:\", my_pca.cumulative_explained_variance_)"
   ]
  },
  {
   "cell_type": "markdown",
   "metadata": {},
   "source": [
    "# 3. So sánh với PCA của skitlearn"
   ]
  },
  {
   "cell_type": "code",
   "execution_count": 11,
   "metadata": {},
   "outputs": [],
   "source": [
    "from sklearn.decomposition import PCA"
   ]
  },
  {
   "cell_type": "code",
   "execution_count": 12,
   "metadata": {},
   "outputs": [],
   "source": [
    "sklearn_pca = PCA(n_components=k)\n",
    "X2_iris_sklearn = sklearn_pca.fit_transform(X_iris_std)"
   ]
  },
  {
   "cell_type": "code",
   "execution_count": 13,
   "metadata": {},
   "outputs": [
    {
     "data": {
      "image/png": "[encoded data removed]",
      "text/plain": [
       "<Figure size 600x500 with 1 Axes>"
      ]
     },
     "metadata": {},
     "output_type": "display_data"
    }
   ],
   "source": [
    "scree_plot(sklearn_pca, 'bo-')"
   ]
  },
  {
   "cell_type": "code",
   "execution_count": 14,
   "metadata": {},
   "outputs": [
    {
     "name": "stdout",
     "output_type": "stream",
     "text": [
      "Sklearn PCA:\n",
      "EVR: [0.72962445 0.22850762 0.03668922 0.00517871]\n",
      "CEVR: [0.72962445 0.95813207 0.99482129 1.        ]\n",
      "MyPCA:\n",
      "EVR: [0.72962445 0.22850762 0.03668922 0.00517871]\n",
      "CEVR: [0.72962445 0.95813207 0.99482129 1.        ]\n"
     ]
    }
   ],
   "source": [
    "# so sanh 2 PCA\n",
    "print(\"Sklearn PCA:\")\n",
    "print(\"EVR:\", sklearn_pca.explained_variance_ratio_)\n",
    "print(\"CEVR:\", np.cumsum(sklearn_pca.explained_variance_ratio_))\n",
    "print(\"MyPCA:\")\n",
    "print(\"EVR:\", my_pca.explained_variance_ratio_)\n",
    "print(\"CEVR:\", my_pca.cumulative_explained_variance_)\n",
    "\n"
   ]
  },
  {
   "cell_type": "markdown",
   "metadata": {},
   "source": [
    "## Kết luận\n",
    "- Dựa trên kết quả so sánh, ta thấy rằng PCA tự cài đặt và PCA của sklearn cho ra các giá trị explained variance ratio (EVR) và cumulative explained variance ratio (CEVR) giống hệt nhau.\n",
    "- Điều này cho thấy việc cài đặt PCA thủ công là chính xác và cho kết quả tương đương với thư viện sklearn. \n",
    "- Như vậy, ta có thể tin tưởng vào cả hai phương pháp khi áp dụng PCA cho bộ dữ liệu này.\n"
   ]
  }
 ],
 "metadata": {
  "kernelspec": {
   "display_name": "Python 3",
   "language": "python",
   "name": "python3"
  },
  "language_info": {
   "codemirror_mode": {
    "name": "ipython",
    "version": 3
   },
   "file_extension": ".py",
   "mimetype": "text/x-python",
   "name": "python",
   "nbconvert_exporter": "python",
   "pygments_lexer": "ipython3",
   "version": "3.12.3"
  }
 },
 "nbformat": 4,
 "nbformat_minor": 2
}
