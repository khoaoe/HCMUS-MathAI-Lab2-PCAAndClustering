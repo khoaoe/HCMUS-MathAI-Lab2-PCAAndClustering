{
 "cells": [
  {
   "cell_type": "code",
   "execution_count": 1,
   "metadata": {},
   "outputs": [],
   "source": [
    "import numpy as np\n",
    "import pandas as pd\n",
    "import matplotlib.pyplot as plt"
   ]
  },
  {
   "cell_type": "markdown",
   "metadata": {},
   "source": [
    "# 1. Sử dụng class MyPCA"
   ]
  },
  {
   "cell_type": "code",
   "execution_count": 2,
   "metadata": {},
   "outputs": [],
   "source": [
    "class MyPCA:\n",
    "    def __init__(self, n_components=None):\n",
    "        \"\"\"\n",
    "        n_components: số thành phần chính muốn giữ lại\n",
    "        Nếu None thì giữ toàn bộ\n",
    "        \"\"\"\n",
    "        self.n_components = n_components\n",
    "\n",
    "    def fit(self, X):\n",
    "        \"\"\"\n",
    "        X: mảng numpy shape (n_samples, n_features)\n",
    "        Tính:\n",
    "         - self.components_: ma trận (n_components, n_features)\n",
    "         - self.explained_variance_: vector các trị riêng (n_components,)\n",
    "         - self.explained_variance_ratio_: EVR (n_components,)\n",
    "         - self.cumulative_explained_variance_: CEVR (n_components,)\n",
    "        \"\"\"\n",
    "        # 1) Tâm dữ liệu\n",
    "        self.mean_ = np.mean(X, axis=0)\n",
    "        Xc = X - self.mean_\n",
    "        # 2) Ma trận hiệp phương sai\n",
    "        C = np.cov(Xc, rowvar=False)\n",
    "        # 3) Tính trị riêng\n",
    "        eigvals, eigvecs = np.linalg.eigh(C)\n",
    "        # 4) Sắp xếp giảm dần\n",
    "        idx = np.argsort(eigvals)[::-1]\n",
    "        eigvals = eigvals[idx]\n",
    "        eigvecs = eigvecs[:, idx]\n",
    "        # 5) Chọn số thành phần\n",
    "        if self.n_components is not None:\n",
    "            eigvals = eigvals[:self.n_components]\n",
    "            eigvecs = eigvecs[:, :self.n_components]\n",
    "        # 6) Lưu kết quả\n",
    "        self.components_ = eigvecs.T\n",
    "        self.explained_variance_ = eigvals\n",
    "        total_var = np.sum(eigvals)\n",
    "        self.explained_variance_ratio_ = eigvals / total_var\n",
    "        self.cumulative_explained_variance_ = np.cumsum(self.explained_variance_ratio_)\n",
    "        return self\n",
    "\n",
    "    def transform(self, X):\n",
    "        \"\"\"\n",
    "        Chiếu X lên không gian thành phần chính đã fit trước đó\n",
    "        \"\"\"\n",
    "        Xc = X - self.mean_\n",
    "        return Xc.dot(self.components_.T)\n",
    "\n",
    "    def fit_transform(self, X):\n",
    "        return self.fit(X).transform(X)"
   ]
  },
  {
   "cell_type": "markdown",
   "metadata": {},
   "source": [
    "# 2. Chuẩn bị dữ liệu"
   ]
  },
  {
   "cell_type": "code",
   "execution_count": 18,
   "metadata": {},
   "outputs": [],
   "source": [
    "df = pd.read_csv('../data/ABIDE2.csv')"
   ]
  },
  {
   "cell_type": "code",
   "execution_count": 19,
   "metadata": {},
   "outputs": [],
   "source": [
    "# Giả sử các cột ['site','subject','group'] không dùng cho clustering\n",
    "X_abide = df.drop(columns=['site','subject','group']).values\n",
    "y_abide = df['group'].values \n",
    "\n",
    "# Chuẩn hóa\n",
    "X_abide_std = (X_abide - X_abide.mean(axis=0)) / X_abide.std(axis=0)"
   ]
  },
  {
   "cell_type": "code",
   "execution_count": 20,
   "metadata": {},
   "outputs": [],
   "source": [
    "# Xác định số PC\n",
    "k = 10"
   ]
  },
  {
   "cell_type": "code",
   "execution_count": 21,
   "metadata": {},
   "outputs": [],
   "source": [
    "# Giảm chiều với PCA, lấy ví dụ k PC đầu\n",
    "pca_abide = MyPCA(n_components=k)\n",
    "X10_abide = pca_abide.fit_transform(X_abide_std)"
   ]
  },
  {
   "cell_type": "markdown",
   "metadata": {},
   "source": [
    "# 3. Phân cụm KMeans "
   ]
  },
  {
   "cell_type": "code",
   "execution_count": 22,
   "metadata": {},
   "outputs": [],
   "source": [
    "def kmeans(X, k=2, max_iters=100, tol=1e-6):\n",
    "    \"\"\"\n",
    "    X: (n_samples, n_features)\n",
    "    k: số cluster\n",
    "    Trả về:\n",
    "      labels: (n_samples,) nhãn cluster\n",
    "      centers: (k, n_features)\n",
    "    \"\"\"\n",
    "    n, d = X.shape\n",
    "    # 1) Khởi tạo centers bằng cách chọn k điểm ngẫu nhiên\n",
    "    rng = np.random.default_rng(seed=42)\n",
    "    centers = X[rng.choice(n, size=k, replace=False)].copy()\n",
    "    labels = np.zeros(n, dtype=int)\n",
    "\n",
    "    for it in range(max_iters):\n",
    "        # 2) Gán nhãn\n",
    "        dist = np.linalg.norm(X[:, None, :] - centers[None, :, :], axis=2)\n",
    "        new_labels = np.argmin(dist, axis=1)\n",
    "\n",
    "        # 3) Cập nhật centers\n",
    "        new_centers = np.zeros_like(centers)\n",
    "        for j in range(k):\n",
    "            pts = X[new_labels==j]\n",
    "            # Nếu không có điểm, giữ nguyên center cũ\n",
    "            new_centers[j] = pts.mean(axis=0) if len(pts)>0 else centers[j]\n",
    "\n",
    "        # Kiểm tra hội tụ\n",
    "        shift = np.linalg.norm(new_centers - centers)\n",
    "        centers = new_centers\n",
    "        labels = new_labels\n",
    "        if shift < tol:\n",
    "            break\n",
    "\n",
    "    return labels, centers"
   ]
  },
  {
   "cell_type": "code",
   "execution_count": 23,
   "metadata": {},
   "outputs": [],
   "source": [
    "labels_abide, centers_abide = kmeans(X10_abide, k=2)"
   ]
  },
  {
   "cell_type": "markdown",
   "metadata": {},
   "source": [
    "# 4. Đánh giá"
   ]
  },
  {
   "cell_type": "code",
   "execution_count": 24,
   "metadata": {},
   "outputs": [
    {
     "name": "stdout",
     "output_type": "stream",
     "text": [
      "Accuracy clustering: 53.98%\n",
      "Confusion matrix:\n",
      "          Pred=0     Pred=1\n",
      "True=0         353        188\n",
      "True=1         274        189\n",
      "Precision: 50.13%\n",
      "Recall:    40.82%\n"
     ]
    }
   ],
   "source": [
    "# Chuyển y_abide (\"Cancer\"/\"Normal\") thành nhãn số {0,1}\n",
    "mapping = {'Normal':0, 'Cancer':1}\n",
    "y_num = np.vectorize(mapping.get)(y_abide)\n",
    "\n",
    "# Xác định map cụm->nhãn sao cho accuracy cao nhất\n",
    "# Thử cả hai gán: cluster0->0 hoặc 1\n",
    "acc0 = np.mean(labels_abide == y_num)\n",
    "acc1 = np.mean((1-labels_abide) == y_num)\n",
    "if acc1 > acc0:\n",
    "    labels_abide = 1 - labels_abide\n",
    "accuracy = np.mean(labels_abide == y_num)\n",
    "print(f\"Accuracy clustering: {accuracy*100:.2f}%\")\n",
    "\n",
    "# Ma trận nhầm lẫn\n",
    "from collections import Counter\n",
    "# Tính TP, TN, FP, FN\n",
    "TP = np.sum((labels_abide==1)&(y_num==1))\n",
    "TN = np.sum((labels_abide==0)&(y_num==0))\n",
    "FP = np.sum((labels_abide==1)&(y_num==0))\n",
    "FN = np.sum((labels_abide==0)&(y_num==1))\n",
    "print(\"Confusion matrix:\")\n",
    "print(f\"          Pred=0     Pred=1\")\n",
    "print(f\"True=0    {TN:>8d}   {FP:>8d}\")\n",
    "print(f\"True=1    {FN:>8d}   {TP:>8d}\")\n",
    "# Precision, recall\n",
    "precision = TP / (TP+FP) if TP+FP>0 else 0\n",
    "recall    = TP / (TP+FN) if TP+FN>0 else 0\n",
    "print(f\"Precision: {precision*100:.2f}%\")\n",
    "print(f\"Recall:    {recall*100:.2f}%\")"
   ]
  },
  {
   "cell_type": "code",
   "execution_count": 25,
   "metadata": {},
   "outputs": [
    {
     "name": "stdout",
     "output_type": "stream",
     "text": [
      "Silhouette score: 0.287\n"
     ]
    }
   ],
   "source": [
    "# Silhouette score\n",
    "from sklearn.metrics import silhouette_score\n",
    "sil = silhouette_score(X10_abide, labels_abide)\n",
    "print(f\"Silhouette score: {sil:.3f}\")"
   ]
  }
 ],
 "metadata": {
  "kernelspec": {
   "display_name": "Python 3",
   "language": "python",
   "name": "python3"
  },
  "language_info": {
   "codemirror_mode": {
    "name": "ipython",
    "version": 3
   },
   "file_extension": ".py",
   "mimetype": "text/x-python",
   "name": "python",
   "nbconvert_exporter": "python",
   "pygments_lexer": "ipython3",
   "version": "3.12.3"
  }
 },
 "nbformat": 4,
 "nbformat_minor": 2
}
